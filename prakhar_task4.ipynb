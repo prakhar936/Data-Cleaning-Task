{
 "cells": [
  {
   "cell_type": "code",
   "execution_count": 1,
   "id": "92d16228",
   "metadata": {},
   "outputs": [],
   "source": [
    "import numpy as np\n",
    "import pandas as pd\n",
    "import matplotlib.pyplot as plt"
   ]
  },
  {
   "cell_type": "code",
   "execution_count": 2,
   "id": "09ae6c3f",
   "metadata": {},
   "outputs": [
    {
     "data": {
      "text/html": [
       "<div>\n",
       "<style scoped>\n",
       "    .dataframe tbody tr th:only-of-type {\n",
       "        vertical-align: middle;\n",
       "    }\n",
       "\n",
       "    .dataframe tbody tr th {\n",
       "        vertical-align: top;\n",
       "    }\n",
       "\n",
       "    .dataframe thead th {\n",
       "        text-align: right;\n",
       "    }\n",
       "</style>\n",
       "<table border=\"1\" class=\"dataframe\">\n",
       "  <thead>\n",
       "    <tr style=\"text-align: right;\">\n",
       "      <th></th>\n",
       "      <th>price</th>\n",
       "      <th>area</th>\n",
       "      <th>bedrooms</th>\n",
       "      <th>bathrooms</th>\n",
       "      <th>stories</th>\n",
       "      <th>mainroad</th>\n",
       "      <th>guestroom</th>\n",
       "      <th>basement</th>\n",
       "      <th>hotwaterheating</th>\n",
       "      <th>airconditioning</th>\n",
       "      <th>parking</th>\n",
       "      <th>prefarea</th>\n",
       "      <th>furnishingstatus</th>\n",
       "    </tr>\n",
       "  </thead>\n",
       "  <tbody>\n",
       "    <tr>\n",
       "      <th>0</th>\n",
       "      <td>13300000</td>\n",
       "      <td>7420.0</td>\n",
       "      <td>4.0</td>\n",
       "      <td>NaN</td>\n",
       "      <td>3.0</td>\n",
       "      <td>NaN</td>\n",
       "      <td>NaN</td>\n",
       "      <td>NaN</td>\n",
       "      <td>NaN</td>\n",
       "      <td>yes</td>\n",
       "      <td>2.0</td>\n",
       "      <td>Haanji</td>\n",
       "      <td>furnished</td>\n",
       "    </tr>\n",
       "    <tr>\n",
       "      <th>1</th>\n",
       "      <td>12250000</td>\n",
       "      <td>8960.0</td>\n",
       "      <td>NaN</td>\n",
       "      <td>4.0</td>\n",
       "      <td>4.0</td>\n",
       "      <td>yes</td>\n",
       "      <td>no</td>\n",
       "      <td>no</td>\n",
       "      <td>Nakko</td>\n",
       "      <td>yes</td>\n",
       "      <td>NaN</td>\n",
       "      <td>no</td>\n",
       "      <td>furnished</td>\n",
       "    </tr>\n",
       "    <tr>\n",
       "      <th>2</th>\n",
       "      <td>12250000</td>\n",
       "      <td>9960.0</td>\n",
       "      <td>3.0</td>\n",
       "      <td>2.0</td>\n",
       "      <td>2.0</td>\n",
       "      <td>yes</td>\n",
       "      <td>NaN</td>\n",
       "      <td>yes</td>\n",
       "      <td>no</td>\n",
       "      <td>Naaji</td>\n",
       "      <td>2.0</td>\n",
       "      <td>yes</td>\n",
       "      <td>semi-furnished</td>\n",
       "    </tr>\n",
       "    <tr>\n",
       "      <th>3</th>\n",
       "      <td>12215000</td>\n",
       "      <td>7500.0</td>\n",
       "      <td>NaN</td>\n",
       "      <td>NaN</td>\n",
       "      <td>NaN</td>\n",
       "      <td>NaN</td>\n",
       "      <td>no</td>\n",
       "      <td>yes</td>\n",
       "      <td>no</td>\n",
       "      <td>yes</td>\n",
       "      <td>3.0</td>\n",
       "      <td>yes</td>\n",
       "      <td>furnished</td>\n",
       "    </tr>\n",
       "    <tr>\n",
       "      <th>4</th>\n",
       "      <td>11410000</td>\n",
       "      <td>7420.0</td>\n",
       "      <td>NaN</td>\n",
       "      <td>1.0</td>\n",
       "      <td>2.0</td>\n",
       "      <td>NaN</td>\n",
       "      <td>Of course</td>\n",
       "      <td>yes</td>\n",
       "      <td>NaN</td>\n",
       "      <td>yes</td>\n",
       "      <td>2.0</td>\n",
       "      <td>no</td>\n",
       "      <td>NaN</td>\n",
       "    </tr>\n",
       "    <tr>\n",
       "      <th>...</th>\n",
       "      <td>...</td>\n",
       "      <td>...</td>\n",
       "      <td>...</td>\n",
       "      <td>...</td>\n",
       "      <td>...</td>\n",
       "      <td>...</td>\n",
       "      <td>...</td>\n",
       "      <td>...</td>\n",
       "      <td>...</td>\n",
       "      <td>...</td>\n",
       "      <td>...</td>\n",
       "      <td>...</td>\n",
       "      <td>...</td>\n",
       "    </tr>\n",
       "    <tr>\n",
       "      <th>540</th>\n",
       "      <td>1820000</td>\n",
       "      <td>NaN</td>\n",
       "      <td>2.0</td>\n",
       "      <td>NaN</td>\n",
       "      <td>1.0</td>\n",
       "      <td>NaN</td>\n",
       "      <td>no</td>\n",
       "      <td>NaN</td>\n",
       "      <td>no</td>\n",
       "      <td>no</td>\n",
       "      <td>NaN</td>\n",
       "      <td>no</td>\n",
       "      <td>unfurnished</td>\n",
       "    </tr>\n",
       "    <tr>\n",
       "      <th>541</th>\n",
       "      <td>1767150</td>\n",
       "      <td>NaN</td>\n",
       "      <td>3.0</td>\n",
       "      <td>1.0</td>\n",
       "      <td>1.0</td>\n",
       "      <td>no</td>\n",
       "      <td>ille</td>\n",
       "      <td>no</td>\n",
       "      <td>no</td>\n",
       "      <td>Nah</td>\n",
       "      <td>NaN</td>\n",
       "      <td>NaN</td>\n",
       "      <td>NaN</td>\n",
       "    </tr>\n",
       "    <tr>\n",
       "      <th>542</th>\n",
       "      <td>1750000</td>\n",
       "      <td>3620.0</td>\n",
       "      <td>NaN</td>\n",
       "      <td>NaN</td>\n",
       "      <td>NaN</td>\n",
       "      <td>yes</td>\n",
       "      <td>no</td>\n",
       "      <td>no</td>\n",
       "      <td>NaN</td>\n",
       "      <td>NaN</td>\n",
       "      <td>NaN</td>\n",
       "      <td>n</td>\n",
       "      <td>unfurnished</td>\n",
       "    </tr>\n",
       "    <tr>\n",
       "      <th>543</th>\n",
       "      <td>1750000</td>\n",
       "      <td>NaN</td>\n",
       "      <td>NaN</td>\n",
       "      <td>1.0</td>\n",
       "      <td>1.0</td>\n",
       "      <td>no</td>\n",
       "      <td>no</td>\n",
       "      <td>no</td>\n",
       "      <td>no</td>\n",
       "      <td>no</td>\n",
       "      <td>0.0</td>\n",
       "      <td>NaN</td>\n",
       "      <td>furnished</td>\n",
       "    </tr>\n",
       "    <tr>\n",
       "      <th>544</th>\n",
       "      <td>1750000</td>\n",
       "      <td>3850.0</td>\n",
       "      <td>3.0</td>\n",
       "      <td>1.0</td>\n",
       "      <td>2.0</td>\n",
       "      <td>NaN</td>\n",
       "      <td>NaN</td>\n",
       "      <td>NaN</td>\n",
       "      <td>NaN</td>\n",
       "      <td>no</td>\n",
       "      <td>0.0</td>\n",
       "      <td>Naaji</td>\n",
       "      <td>NaN</td>\n",
       "    </tr>\n",
       "  </tbody>\n",
       "</table>\n",
       "<p>545 rows × 13 columns</p>\n",
       "</div>"
      ],
      "text/plain": [
       "        price    area  bedrooms  bathrooms  stories mainroad  guestroom  \\\n",
       "0    13300000  7420.0       4.0        NaN      3.0      NaN        NaN   \n",
       "1    12250000  8960.0       NaN        4.0      4.0      yes         no   \n",
       "2    12250000  9960.0       3.0        2.0      2.0      yes        NaN   \n",
       "3    12215000  7500.0       NaN        NaN      NaN      NaN         no   \n",
       "4    11410000  7420.0       NaN        1.0      2.0      NaN  Of course   \n",
       "..        ...     ...       ...        ...      ...      ...        ...   \n",
       "540   1820000     NaN       2.0        NaN      1.0      NaN         no   \n",
       "541   1767150     NaN       3.0        1.0      1.0       no       ille   \n",
       "542   1750000  3620.0       NaN        NaN      NaN      yes         no   \n",
       "543   1750000     NaN       NaN        1.0      1.0       no         no   \n",
       "544   1750000  3850.0       3.0        1.0      2.0      NaN        NaN   \n",
       "\n",
       "    basement hotwaterheating airconditioning  parking prefarea  \\\n",
       "0        NaN             NaN             yes      2.0   Haanji   \n",
       "1         no           Nakko             yes      NaN       no   \n",
       "2        yes              no           Naaji      2.0      yes   \n",
       "3        yes              no             yes      3.0      yes   \n",
       "4        yes             NaN             yes      2.0       no   \n",
       "..       ...             ...             ...      ...      ...   \n",
       "540      NaN              no              no      NaN       no   \n",
       "541       no              no             Nah      NaN      NaN   \n",
       "542       no             NaN             NaN      NaN        n   \n",
       "543       no              no              no      0.0      NaN   \n",
       "544      NaN             NaN              no      0.0    Naaji   \n",
       "\n",
       "    furnishingstatus  \n",
       "0          furnished  \n",
       "1          furnished  \n",
       "2     semi-furnished  \n",
       "3          furnished  \n",
       "4                NaN  \n",
       "..               ...  \n",
       "540      unfurnished  \n",
       "541              NaN  \n",
       "542      unfurnished  \n",
       "543        furnished  \n",
       "544              NaN  \n",
       "\n",
       "[545 rows x 13 columns]"
      ]
     },
     "execution_count": 2,
     "metadata": {},
     "output_type": "execute_result"
    }
   ],
   "source": [
    "df = pd.read_csv(r\"C:\\Users\\91936\\Downloads\\Task_4.csv\")\n",
    "df"
   ]
  },
  {
   "cell_type": "code",
   "execution_count": 3,
   "id": "bd288ac4",
   "metadata": {},
   "outputs": [],
   "source": [
    "#droping any number of columns that are duplicate\n",
    "df.drop_duplicates(inplace = True)\n",
    "df.shape\n",
    "#sortind dataset in increasing order of prices to get a better understandig of features \n",
    "df = df.sort_values('price', ascending = True)\n",
    "df = df.reset_index(drop = True)"
   ]
  },
  {
   "cell_type": "code",
   "execution_count": 4,
   "id": "230f539e",
   "metadata": {},
   "outputs": [
    {
     "name": "stdout",
     "output_type": "stream",
     "text": [
      "price\n",
      "[ 1750000  1767150  1820000  1855000  1890000  1960000  2100000  2135000\n",
      "  2233000  2240000  2275000  2310000  2345000  2380000  2408000  2450000\n",
      "  2485000  2520000  2590000  2604000  2653000  2660000  2695000  2730000\n",
      "  2800000  2835000  2852500  2870000  2940000  2961000  2975000  3003000\n",
      "  3010000  3045000  3080000  3087000  3115000  3118850  3129000  3143000\n",
      "  3150000  3220000  3234000  3255000  3290000  3325000  3332000  3353000\n",
      "  3360000  3395000  3423000  3430000  3465000  3493000  3500000  3535000\n",
      "  3570000  3605000  3633000  3640000  3675000  3703000  3710000  3745000\n",
      "  3773000  3780000  3815000  3836000  3850000  3885000  3920000  3990000\n",
      "  4007500  4025000  4060000  4095000  4098500  4123000  4130000  4165000\n",
      "  4193000  4200000  4235000  4270000  4277000  4305000  4319000  4340000\n",
      "  4375000  4382000  4403000  4410000  4445000  4473000  4480000  4515000\n",
      "  4543000  4550000  4585000  4613000  4620000  4655000  4690000  4753000\n",
      "  4760000  4767000  4795000  4830000  4865000  4893000  4900000  4907000\n",
      "  4935000  4956000  4970000  5005000  5033000  5040000  5075000  5110000\n",
      "  5145000  5215000  5229000  5243000  5250000  5285000  5320000  5383000\n",
      "  5390000  5425000  5460000  5495000  5523000  5530000  5565000  5600000\n",
      "  5652500  5740000  5775000  5803000  5810000  5866000  5873000  5880000\n",
      "  5943000  5950000  6020000  6083000  6090000  6107500  6125000  6160000\n",
      "  6195000  6230000  6265000  6293000  6300000  6405000  6419000  6440000\n",
      "  6475000  6510000  6580000  6615000  6629000  6650000  6685000  6720000\n",
      "  6755000  6790000  6860000  6895000  6930000  7000000  7035000  7070000\n",
      "  7140000  7210000  7245000  7343000  7350000  7420000  7455000  7490000\n",
      "  7525000  7560000  7700000  7840000  7875000  7910000  7962500  7980000\n",
      "  8043000  8080940  8120000  8190000  8295000  8400000  8463000  8540000\n",
      "  8575000  8645000  8680000  8750000  8855000  8890000  8960000  9100000\n",
      "  9240000  9310000  9681000  9800000  9870000 10150000 10850000 11410000\n",
      " 12215000 12250000 13300000]\n",
      "\n",
      "area\n",
      "[ 3850.    nan  3620.  3649.  3360.  3000.  2400.  5300.  1950.  3180.\n",
      "  3640.  3264.  2475.  3635.  3240.  3210.  4400.  2880.  3600.  3185.\n",
      "  4000.  2430.  2800.  2000.  3934.  3960.  2650.  3300.  5200.  5400.\n",
      "  3630.  3040.  5850.  2700.  4352.  3750.  5076.  4600.  2835.  3090.\n",
      "  3800.  4500.  8100.  3500.  2398.  5495.  4095.  3450.  3069.  3120.\n",
      "  4320.  2684.  4370.  3480.  2145.  5880.  4960.  4120.  3720.  3100.\n",
      "  2610.  3060.  5320.  4240.  2135.  3036.  7424.  5900.  7350.  3512.\n",
      " 12944.  9500.  3520.  3570.  2850.  5640.  5450.  4050.  6020.  4040.\n",
      "  2520.  8250.  6930.  5830.  4820.  3150.  3350.  4080.  2015.  2176.\n",
      "  3780.  3816.  3290.  7260.  6480.  4100.  3460.  4992.  5600.  3680.\n",
      "  5985.  4632.  4046.  5500.  2747.  4410.  5040.  4079.  2787.  6360.\n",
      "  3400. 10360.  6450.  4075.  3900.  4880.  3968.  3162.  5885.  4510.\n",
      "  3510.  9860.  4990.  2550.  3760.  2870.  3880.  4160.  3745.  9667.\n",
      "  9166. 10240.  6321.  4815.  6862.  6040.  4995.  3420. 12900.  6720.\n",
      "  2970.  4200.  5948.  7686.  4800.  6600.  7600.  5720. 11410.  6100.\n",
      "  7980.  3410.  7200.  7085.  6540.  8520.  8400.  9800.  7800.  6710.\n",
      "  6900.  3650. 10500.  5000.  4700.  5136.  4640.  6000.  5828. 11460.\n",
      "  6500.  7160. 15600.  6525.  6254.  7231.  6420.  6800.  8000.  9620.\n",
      "  4300.  6350.  9000.  6400.  6750.  8580.  7410.  5700.  4260.  5020.\n",
      " 11175.  7680.  6550.  7482.  7000.  6840.  5960.  7475.  7950.  8875.\n",
      "  8800.  4560.  8050.  7155.  8500. 13200.  5750. 16200.  7420.  7500.\n",
      "  9960.  8960.]\n",
      "\n",
      "bedrooms\n",
      "[ 3. nan  2.  4.  1.  5.  6.]\n",
      "\n",
      "bathrooms\n",
      "[ 1. nan  2.  3.  4.]\n",
      "\n",
      "stories\n",
      "[ 2.  1. nan  3.  4.]\n",
      "\n",
      "mainroad\n",
      "[nan 'no' 'yes' 'False' 'n' 'Of course' 'Nope' 'True' 'yep' 'Nakko' 'y'\n",
      " 'Haanji' 'N' 'Yo' 'Naaji' 'Haan' 'Indeed' 'Y' \"['y']\"]\n",
      "\n",
      "guestroom\n",
      "[nan 'no' 'ille' 'Nah' 'yep' 'yes' 'Nope' 'N' 'n' 'Nakko' 'Haanji' \"['n']\"\n",
      " 'Naaji' 'False' 'Indeed' 'Haan' 'True' 'y' 'Y' 'Yo' 'Of course']\n",
      "\n",
      "basement\n",
      "[nan 'no' 'Naaji' 'N' 'yes' 'Nakko' 'Nah' 'Nope' 'ille' 'n' 'Indeed'\n",
      " 'Of course' 'False' 'y' 'yep' 'True' 'Yo' 'Haan' 'Haanji' 'Y' \"['n']\"]\n",
      "\n",
      "hotwaterheating\n",
      "[nan 'no' 'ille' 'yes' 'Nah' 'False' 'n' \"['n']\" 'Nakko' 'y' 'Nope' 'N'\n",
      " 'Naaji' 'Haan' 'Y']\n",
      "\n",
      "airconditioning\n",
      "['no' nan 'Nah' 'n' 'yes' 'Naaji' 'Nakko' 'Nope' 'False' \"['n']\" 'N' 'Y'\n",
      " 'yep' 'ille' 'Haanji' 'Of course' 'True' 'y' \"['y']\"]\n",
      "\n",
      "parking\n",
      "[ 0. nan  1.  3.  2.]\n",
      "\n",
      "prefarea\n",
      "['Naaji' nan 'n' 'no' 'yes' 'False' 'N' 'Nope' 'Nakko' 'y' 'ille' 'yep'\n",
      " 'Yo' 'Nah' 'Of course' 'Y' \"['n']\" 'Haan' 'Haanji' 'True']\n",
      "\n",
      "furnishingstatus\n",
      "[nan 'furnished' 'unfurnished' 'semi-furnished']\n",
      "\n"
     ]
    }
   ],
   "source": [
    "#finding unique values in each column to find what are the values we have to work with and convert same value with different\n",
    "#name into one\n",
    "for i in df.columns:\n",
    "    print(i)\n",
    "    print(df[i].unique())\n",
    "    print()"
   ]
  },
  {
   "cell_type": "code",
   "execution_count": 5,
   "id": "620d2059",
   "metadata": {},
   "outputs": [
    {
     "data": {
      "text/html": [
       "<div>\n",
       "<style scoped>\n",
       "    .dataframe tbody tr th:only-of-type {\n",
       "        vertical-align: middle;\n",
       "    }\n",
       "\n",
       "    .dataframe tbody tr th {\n",
       "        vertical-align: top;\n",
       "    }\n",
       "\n",
       "    .dataframe thead th {\n",
       "        text-align: right;\n",
       "    }\n",
       "</style>\n",
       "<table border=\"1\" class=\"dataframe\">\n",
       "  <thead>\n",
       "    <tr style=\"text-align: right;\">\n",
       "      <th></th>\n",
       "      <th>price</th>\n",
       "      <th>area</th>\n",
       "      <th>bedrooms</th>\n",
       "      <th>bathrooms</th>\n",
       "      <th>stories</th>\n",
       "      <th>mainroad</th>\n",
       "      <th>guestroom</th>\n",
       "      <th>basement</th>\n",
       "      <th>hotwaterheating</th>\n",
       "      <th>airconditioning</th>\n",
       "      <th>parking</th>\n",
       "      <th>prefarea</th>\n",
       "      <th>furnishingstatus</th>\n",
       "    </tr>\n",
       "  </thead>\n",
       "  <tbody>\n",
       "    <tr>\n",
       "      <th>0</th>\n",
       "      <td>1750000</td>\n",
       "      <td>3850.0</td>\n",
       "      <td>3.0</td>\n",
       "      <td>1.0</td>\n",
       "      <td>2.0</td>\n",
       "      <td>NaN</td>\n",
       "      <td>NaN</td>\n",
       "      <td>NaN</td>\n",
       "      <td>NaN</td>\n",
       "      <td>0.0</td>\n",
       "      <td>0.0</td>\n",
       "      <td>0.0</td>\n",
       "      <td>NaN</td>\n",
       "    </tr>\n",
       "    <tr>\n",
       "      <th>1</th>\n",
       "      <td>1750000</td>\n",
       "      <td>NaN</td>\n",
       "      <td>NaN</td>\n",
       "      <td>1.0</td>\n",
       "      <td>1.0</td>\n",
       "      <td>0.0</td>\n",
       "      <td>0.0</td>\n",
       "      <td>0.0</td>\n",
       "      <td>0.0</td>\n",
       "      <td>0.0</td>\n",
       "      <td>0.0</td>\n",
       "      <td>NaN</td>\n",
       "      <td>2.0</td>\n",
       "    </tr>\n",
       "    <tr>\n",
       "      <th>2</th>\n",
       "      <td>1750000</td>\n",
       "      <td>3620.0</td>\n",
       "      <td>NaN</td>\n",
       "      <td>NaN</td>\n",
       "      <td>NaN</td>\n",
       "      <td>1.0</td>\n",
       "      <td>0.0</td>\n",
       "      <td>0.0</td>\n",
       "      <td>NaN</td>\n",
       "      <td>NaN</td>\n",
       "      <td>NaN</td>\n",
       "      <td>0.0</td>\n",
       "      <td>0.0</td>\n",
       "    </tr>\n",
       "    <tr>\n",
       "      <th>3</th>\n",
       "      <td>1767150</td>\n",
       "      <td>NaN</td>\n",
       "      <td>3.0</td>\n",
       "      <td>1.0</td>\n",
       "      <td>1.0</td>\n",
       "      <td>0.0</td>\n",
       "      <td>0.0</td>\n",
       "      <td>0.0</td>\n",
       "      <td>0.0</td>\n",
       "      <td>0.0</td>\n",
       "      <td>NaN</td>\n",
       "      <td>NaN</td>\n",
       "      <td>NaN</td>\n",
       "    </tr>\n",
       "    <tr>\n",
       "      <th>4</th>\n",
       "      <td>1820000</td>\n",
       "      <td>NaN</td>\n",
       "      <td>2.0</td>\n",
       "      <td>NaN</td>\n",
       "      <td>1.0</td>\n",
       "      <td>NaN</td>\n",
       "      <td>0.0</td>\n",
       "      <td>NaN</td>\n",
       "      <td>0.0</td>\n",
       "      <td>0.0</td>\n",
       "      <td>NaN</td>\n",
       "      <td>0.0</td>\n",
       "      <td>0.0</td>\n",
       "    </tr>\n",
       "    <tr>\n",
       "      <th>...</th>\n",
       "      <td>...</td>\n",
       "      <td>...</td>\n",
       "      <td>...</td>\n",
       "      <td>...</td>\n",
       "      <td>...</td>\n",
       "      <td>...</td>\n",
       "      <td>...</td>\n",
       "      <td>...</td>\n",
       "      <td>...</td>\n",
       "      <td>...</td>\n",
       "      <td>...</td>\n",
       "      <td>...</td>\n",
       "      <td>...</td>\n",
       "    </tr>\n",
       "    <tr>\n",
       "      <th>540</th>\n",
       "      <td>11410000</td>\n",
       "      <td>7420.0</td>\n",
       "      <td>NaN</td>\n",
       "      <td>1.0</td>\n",
       "      <td>2.0</td>\n",
       "      <td>NaN</td>\n",
       "      <td>1.0</td>\n",
       "      <td>1.0</td>\n",
       "      <td>NaN</td>\n",
       "      <td>1.0</td>\n",
       "      <td>2.0</td>\n",
       "      <td>0.0</td>\n",
       "      <td>NaN</td>\n",
       "    </tr>\n",
       "    <tr>\n",
       "      <th>541</th>\n",
       "      <td>12215000</td>\n",
       "      <td>7500.0</td>\n",
       "      <td>NaN</td>\n",
       "      <td>NaN</td>\n",
       "      <td>NaN</td>\n",
       "      <td>NaN</td>\n",
       "      <td>0.0</td>\n",
       "      <td>1.0</td>\n",
       "      <td>0.0</td>\n",
       "      <td>1.0</td>\n",
       "      <td>3.0</td>\n",
       "      <td>1.0</td>\n",
       "      <td>2.0</td>\n",
       "    </tr>\n",
       "    <tr>\n",
       "      <th>542</th>\n",
       "      <td>12250000</td>\n",
       "      <td>9960.0</td>\n",
       "      <td>3.0</td>\n",
       "      <td>2.0</td>\n",
       "      <td>2.0</td>\n",
       "      <td>1.0</td>\n",
       "      <td>NaN</td>\n",
       "      <td>1.0</td>\n",
       "      <td>0.0</td>\n",
       "      <td>0.0</td>\n",
       "      <td>2.0</td>\n",
       "      <td>1.0</td>\n",
       "      <td>1.0</td>\n",
       "    </tr>\n",
       "    <tr>\n",
       "      <th>543</th>\n",
       "      <td>12250000</td>\n",
       "      <td>8960.0</td>\n",
       "      <td>NaN</td>\n",
       "      <td>4.0</td>\n",
       "      <td>4.0</td>\n",
       "      <td>1.0</td>\n",
       "      <td>0.0</td>\n",
       "      <td>0.0</td>\n",
       "      <td>0.0</td>\n",
       "      <td>1.0</td>\n",
       "      <td>NaN</td>\n",
       "      <td>0.0</td>\n",
       "      <td>2.0</td>\n",
       "    </tr>\n",
       "    <tr>\n",
       "      <th>544</th>\n",
       "      <td>13300000</td>\n",
       "      <td>7420.0</td>\n",
       "      <td>4.0</td>\n",
       "      <td>NaN</td>\n",
       "      <td>3.0</td>\n",
       "      <td>NaN</td>\n",
       "      <td>NaN</td>\n",
       "      <td>NaN</td>\n",
       "      <td>NaN</td>\n",
       "      <td>1.0</td>\n",
       "      <td>2.0</td>\n",
       "      <td>1.0</td>\n",
       "      <td>2.0</td>\n",
       "    </tr>\n",
       "  </tbody>\n",
       "</table>\n",
       "<p>545 rows × 13 columns</p>\n",
       "</div>"
      ],
      "text/plain": [
       "        price    area  bedrooms  bathrooms  stories  mainroad  guestroom  \\\n",
       "0     1750000  3850.0       3.0        1.0      2.0       NaN        NaN   \n",
       "1     1750000     NaN       NaN        1.0      1.0       0.0        0.0   \n",
       "2     1750000  3620.0       NaN        NaN      NaN       1.0        0.0   \n",
       "3     1767150     NaN       3.0        1.0      1.0       0.0        0.0   \n",
       "4     1820000     NaN       2.0        NaN      1.0       NaN        0.0   \n",
       "..        ...     ...       ...        ...      ...       ...        ...   \n",
       "540  11410000  7420.0       NaN        1.0      2.0       NaN        1.0   \n",
       "541  12215000  7500.0       NaN        NaN      NaN       NaN        0.0   \n",
       "542  12250000  9960.0       3.0        2.0      2.0       1.0        NaN   \n",
       "543  12250000  8960.0       NaN        4.0      4.0       1.0        0.0   \n",
       "544  13300000  7420.0       4.0        NaN      3.0       NaN        NaN   \n",
       "\n",
       "     basement  hotwaterheating  airconditioning  parking  prefarea  \\\n",
       "0         NaN              NaN              0.0      0.0       0.0   \n",
       "1         0.0              0.0              0.0      0.0       NaN   \n",
       "2         0.0              NaN              NaN      NaN       0.0   \n",
       "3         0.0              0.0              0.0      NaN       NaN   \n",
       "4         NaN              0.0              0.0      NaN       0.0   \n",
       "..        ...              ...              ...      ...       ...   \n",
       "540       1.0              NaN              1.0      2.0       0.0   \n",
       "541       1.0              0.0              1.0      3.0       1.0   \n",
       "542       1.0              0.0              0.0      2.0       1.0   \n",
       "543       0.0              0.0              1.0      NaN       0.0   \n",
       "544       NaN              NaN              1.0      2.0       1.0   \n",
       "\n",
       "     furnishingstatus  \n",
       "0                 NaN  \n",
       "1                 2.0  \n",
       "2                 0.0  \n",
       "3                 NaN  \n",
       "4                 0.0  \n",
       "..                ...  \n",
       "540               NaN  \n",
       "541               2.0  \n",
       "542               1.0  \n",
       "543               2.0  \n",
       "544               2.0  \n",
       "\n",
       "[545 rows x 13 columns]"
      ]
     },
     "execution_count": 5,
     "metadata": {},
     "output_type": "execute_result"
    }
   ],
   "source": [
    "#Replacing positive with 1 and negative with 0\n",
    "#We are converting these strings into numbers because of ease of our own understanding and increasing readability of code\n",
    "#Furthermore it'll be easier to deal with these values when training any algo on this dataset\n",
    "all_y = ['yes','Of course','Haanji','Indeed','yep','Haan','True','y','Y',\"['y']\",'Yo','Haanji']\n",
    "all_n = ['Nope','Naaji','False','Nakko','no','N','n','ille',\"['n']\",'Nah']\n",
    "for j in df.columns:\n",
    "    df[j] = df[j].replace(all_y,1)\n",
    "    df[j] = df[j].replace(all_n,0)\n",
    "    df[j] = df[j].replace(\"unfurnished\",0)\n",
    "    df[j] = df[j].replace(\"semi-furnished\",1)\n",
    "    df[j] = df[j].replace(\"furnished\",2)\n",
    "    \n",
    "df"
   ]
  },
  {
   "cell_type": "code",
   "execution_count": 6,
   "id": "511f9d5f",
   "metadata": {},
   "outputs": [
    {
     "name": "stdout",
     "output_type": "stream",
     "text": [
      "price\n",
      "[ 1750000  1767150  1820000  1855000  1890000  1960000  2100000  2135000\n",
      "  2233000  2240000  2275000  2310000  2345000  2380000  2408000  2450000\n",
      "  2485000  2520000  2590000  2604000  2653000  2660000  2695000  2730000\n",
      "  2800000  2835000  2852500  2870000  2940000  2961000  2975000  3003000\n",
      "  3010000  3045000  3080000  3087000  3115000  3118850  3129000  3143000\n",
      "  3150000  3220000  3234000  3255000  3290000  3325000  3332000  3353000\n",
      "  3360000  3395000  3423000  3430000  3465000  3493000  3500000  3535000\n",
      "  3570000  3605000  3633000  3640000  3675000  3703000  3710000  3745000\n",
      "  3773000  3780000  3815000  3836000  3850000  3885000  3920000  3990000\n",
      "  4007500  4025000  4060000  4095000  4098500  4123000  4130000  4165000\n",
      "  4193000  4200000  4235000  4270000  4277000  4305000  4319000  4340000\n",
      "  4375000  4382000  4403000  4410000  4445000  4473000  4480000  4515000\n",
      "  4543000  4550000  4585000  4613000  4620000  4655000  4690000  4753000\n",
      "  4760000  4767000  4795000  4830000  4865000  4893000  4900000  4907000\n",
      "  4935000  4956000  4970000  5005000  5033000  5040000  5075000  5110000\n",
      "  5145000  5215000  5229000  5243000  5250000  5285000  5320000  5383000\n",
      "  5390000  5425000  5460000  5495000  5523000  5530000  5565000  5600000\n",
      "  5652500  5740000  5775000  5803000  5810000  5866000  5873000  5880000\n",
      "  5943000  5950000  6020000  6083000  6090000  6107500  6125000  6160000\n",
      "  6195000  6230000  6265000  6293000  6300000  6405000  6419000  6440000\n",
      "  6475000  6510000  6580000  6615000  6629000  6650000  6685000  6720000\n",
      "  6755000  6790000  6860000  6895000  6930000  7000000  7035000  7070000\n",
      "  7140000  7210000  7245000  7343000  7350000  7420000  7455000  7490000\n",
      "  7525000  7560000  7700000  7840000  7875000  7910000  7962500  7980000\n",
      "  8043000  8080940  8120000  8190000  8295000  8400000  8463000  8540000\n",
      "  8575000  8645000  8680000  8750000  8855000  8890000  8960000  9100000\n",
      "  9240000  9310000  9681000  9800000  9870000 10150000 10850000 11410000\n",
      " 12215000 12250000 13300000]\n",
      "\n",
      "area\n",
      "[ 3850.    nan  3620.  3649.  3360.  3000.  2400.  5300.  1950.  3180.\n",
      "  3640.  3264.  2475.  3635.  3240.  3210.  4400.  2880.  3600.  3185.\n",
      "  4000.  2430.  2800.  2000.  3934.  3960.  2650.  3300.  5200.  5400.\n",
      "  3630.  3040.  5850.  2700.  4352.  3750.  5076.  4600.  2835.  3090.\n",
      "  3800.  4500.  8100.  3500.  2398.  5495.  4095.  3450.  3069.  3120.\n",
      "  4320.  2684.  4370.  3480.  2145.  5880.  4960.  4120.  3720.  3100.\n",
      "  2610.  3060.  5320.  4240.  2135.  3036.  7424.  5900.  7350.  3512.\n",
      " 12944.  9500.  3520.  3570.  2850.  5640.  5450.  4050.  6020.  4040.\n",
      "  2520.  8250.  6930.  5830.  4820.  3150.  3350.  4080.  2015.  2176.\n",
      "  3780.  3816.  3290.  7260.  6480.  4100.  3460.  4992.  5600.  3680.\n",
      "  5985.  4632.  4046.  5500.  2747.  4410.  5040.  4079.  2787.  6360.\n",
      "  3400. 10360.  6450.  4075.  3900.  4880.  3968.  3162.  5885.  4510.\n",
      "  3510.  9860.  4990.  2550.  3760.  2870.  3880.  4160.  3745.  9667.\n",
      "  9166. 10240.  6321.  4815.  6862.  6040.  4995.  3420. 12900.  6720.\n",
      "  2970.  4200.  5948.  7686.  4800.  6600.  7600.  5720. 11410.  6100.\n",
      "  7980.  3410.  7200.  7085.  6540.  8520.  8400.  9800.  7800.  6710.\n",
      "  6900.  3650. 10500.  5000.  4700.  5136.  4640.  6000.  5828. 11460.\n",
      "  6500.  7160. 15600.  6525.  6254.  7231.  6420.  6800.  8000.  9620.\n",
      "  4300.  6350.  9000.  6400.  6750.  8580.  7410.  5700.  4260.  5020.\n",
      " 11175.  7680.  6550.  7482.  7000.  6840.  5960.  7475.  7950.  8875.\n",
      "  8800.  4560.  8050.  7155.  8500. 13200.  5750. 16200.  7420.  7500.\n",
      "  9960.  8960.]\n",
      "\n",
      "bedrooms\n",
      "[ 3. nan  2.  4.  1.  5.  6.]\n",
      "\n",
      "bathrooms\n",
      "[ 1. nan  2.  3.  4.]\n",
      "\n",
      "stories\n",
      "[ 2.  1. nan  3.  4.]\n",
      "\n",
      "mainroad\n",
      "[nan  0.  1.]\n",
      "\n",
      "guestroom\n",
      "[nan  0.  1.]\n",
      "\n",
      "basement\n",
      "[nan  0.  1.]\n",
      "\n",
      "hotwaterheating\n",
      "[nan  0.  1.]\n",
      "\n",
      "airconditioning\n",
      "[ 0. nan  1.]\n",
      "\n",
      "parking\n",
      "[ 0. nan  1.  3.  2.]\n",
      "\n",
      "prefarea\n",
      "[ 0. nan  1.]\n",
      "\n",
      "furnishingstatus\n",
      "[nan  2.  0.  1.]\n",
      "\n"
     ]
    }
   ],
   "source": [
    "#Checking for any left value that isn't converted into numbers\n",
    "for i in df.columns:\n",
    "    print(i)\n",
    "    print(df[i].unique())\n",
    "    print()"
   ]
  },
  {
   "cell_type": "code",
   "execution_count": 7,
   "id": "916f46a9",
   "metadata": {
    "scrolled": true
   },
   "outputs": [
    {
     "data": {
      "text/plain": [
       "(427, 13)"
      ]
     },
     "execution_count": 7,
     "metadata": {},
     "output_type": "execute_result"
    }
   ],
   "source": [
    "#Droping all rows that have less than 8 NOT NULL values \n",
    "#because such rows are pretty much useless and if we fill them then it will only decrease accuracy of our algo\n",
    "#Thresh specifies the number of NOT NULL values required to keep the row.\n",
    "df.dropna(axis = 0,thresh = 8,inplace = True)\n",
    "df.reset_index(drop = True, inplace = True)\n",
    "df.shape"
   ]
  },
  {
   "cell_type": "code",
   "execution_count": 8,
   "id": "22a2141e",
   "metadata": {},
   "outputs": [
    {
     "data": {
      "image/png": "[encoded data removed]",
      "text/plain": [
       "<Figure size 640x480 with 1 Axes>"
      ]
     },
     "metadata": {},
     "output_type": "display_data"
    }
   ],
   "source": [
    "#PRICE VS AREA\n",
    "plt.scatter(df['price'], df['area'])\n",
    "plt.xlabel('price')\n",
    "plt.ylabel('area')\n",
    "plt.show()"
   ]
  },
  {
   "cell_type": "code",
   "execution_count": 9,
   "id": "402e2976",
   "metadata": {},
   "outputs": [
    {
     "name": "stdout",
     "output_type": "stream",
     "text": [
      "0\n"
     ]
    }
   ],
   "source": [
    "#Filling in nan values depending on the condition they satisfy\n",
    "for i in df.index:\n",
    "    if(df.loc[i,'price'] < 4300000 and np.isnan(df.loc[i, 'area'])):\n",
    "        df.loc[i,'area'] = 4000\n",
    "    elif(df.loc[i,'price'] < 6000000 and np.isnan(df.loc[i, 'area'])):\n",
    "        df.loc[i,'area'] = 5000\n",
    "    elif(df.loc[i,'price'] < 8000000 and np.isnan(df.loc[i, 'area'])):\n",
    "        df.loc[i,'area'] = 6000\n",
    "    elif(df.loc[i,'price'] <10000000 and np.isnan(df.loc[i, 'area'])):\n",
    "        df.loc[i,'area'] = 9000\n",
    "    elif(np.isnan(df.loc[i, 'area'])):\n",
    "        df.loc[i,'area'] = 7500\n",
    "print(df['area'].isna().sum())"
   ]
  },
  {
   "cell_type": "code",
   "execution_count": 10,
   "id": "e9431d00",
   "metadata": {},
   "outputs": [
    {
     "data": {
      "image/png": "[encoded data removed]",
      "text/plain": [
       "<Figure size 640x480 with 1 Axes>"
      ]
     },
     "metadata": {},
     "output_type": "display_data"
    }
   ],
   "source": [
    "#PRICE VS BEDROOMS\n",
    "#plt.plot(df['price'], df['bedrooms'], color = 'orange', label = 'Price')\n",
    "plt.bar(df['area'],df['bedrooms'], color = 'green', label = 'Area')\n",
    "plt.xlabel('area')\n",
    "plt.ylabel('bedrooms')\n",
    "plt.legend()\n",
    "plt.show()"
   ]
  },
  {
   "cell_type": "code",
   "execution_count": 11,
   "id": "1485ad7d",
   "metadata": {},
   "outputs": [
    {
     "data": {
      "text/plain": [
       "0"
      ]
     },
     "execution_count": 11,
     "metadata": {},
     "output_type": "execute_result"
    }
   ],
   "source": [
    "for i in df.index:\n",
    "    if(df.loc[i,'area']<=8000 and np.isnan(df.loc[i,'bedrooms'])):\n",
    "        df.loc[i,'bedrooms'] = 3\n",
    "    elif(np.isnan(df.loc[i,'bedrooms'])):\n",
    "        df.loc[i,'bedrooms'] = 5\n",
    "#df\n",
    "df['bedrooms'].isna().sum()"
   ]
  },
  {
   "cell_type": "code",
   "execution_count": 12,
   "id": "e9d06af7",
   "metadata": {},
   "outputs": [
    {
     "data": {
      "text/plain": [
       "<function matplotlib.pyplot.show(close=None, block=None)>"
      ]
     },
     "execution_count": 12,
     "metadata": {},
     "output_type": "execute_result"
    },
    {
     "data": {
      "image/png": "[encoded data removed]",
      "text/plain": [
       "<Figure size 640x480 with 1 Axes>"
      ]
     },
     "metadata": {},
     "output_type": "display_data"
    }
   ],
   "source": [
    "plt.scatter(df['price'], df['bathrooms'], color = 'blue', label = 'Bedrooms')\n",
    "plt.xlabel('Prices')\n",
    "plt.ylabel('bathrooms')\n",
    "plt.legend()\n",
    "plt.show"
   ]
  },
  {
   "cell_type": "code",
   "execution_count": 13,
   "id": "194d016a",
   "metadata": {},
   "outputs": [
    {
     "name": "stdout",
     "output_type": "stream",
     "text": [
      "0\n"
     ]
    }
   ],
   "source": [
    "#Filling missing values according to the observations made from the scattered plot\n",
    "for i in df.index:\n",
    "    if(df.loc[i,'price'] < 6000000 and np.isnan(df.loc[i, 'bathrooms'])):\n",
    "        df.loc[i,'bathrooms'] = 1\n",
    "    elif(np.isnan(df.loc[i, 'bathrooms'])):\n",
    "        df.loc[i,'bathrooms'] = 2\n",
    "print(df['bathrooms'].isna().sum())"
   ]
  },
  {
   "cell_type": "code",
   "execution_count": 14,
   "id": "1bd23b04",
   "metadata": {},
   "outputs": [
    {
     "data": {
      "image/png": "[encoded data removed]",
      "text/plain": [
       "<Figure size 640x480 with 1 Axes>"
      ]
     },
     "metadata": {},
     "output_type": "display_data"
    }
   ],
   "source": [
    "#PRICE VS STORIES\n",
    "plt.scatter(df['price'], df['stories'])\n",
    "plt.xlabel('price')\n",
    "plt.ylabel('stories')\n",
    "plt.show()"
   ]
  },
  {
   "cell_type": "code",
   "execution_count": 15,
   "id": "53f8837b",
   "metadata": {},
   "outputs": [
    {
     "name": "stdout",
     "output_type": "stream",
     "text": [
      "0\n"
     ]
    }
   ],
   "source": [
    "#In all price ranges stories are 2 for most rows therefore filled all nan values with 2\n",
    "for i in df.index:\n",
    "    if(df.loc[i,'price']<12000000 and np.isnan(df.loc[i,'stories'])):\n",
    "        df.loc[i,'stories'] = 2\n",
    "    elif(np.isnan(df.loc[i,'stories'])):\n",
    "        df.loc[i,'stories'] = 3\n",
    "print(df['stories'].isna().sum())"
   ]
  },
  {
   "cell_type": "code",
   "execution_count": 16,
   "id": "0bcb4035",
   "metadata": {},
   "outputs": [
    {
     "data": {
      "image/png": "[encoded data removed]",
      "text/plain": [
       "<Figure size 640x480 with 1 Axes>"
      ]
     },
     "metadata": {},
     "output_type": "display_data"
    }
   ],
   "source": [
    "#PRICE VS MAINROAD\n",
    "plt.scatter(df['price'], df['mainroad'])\n",
    "plt.xlabel('price')\n",
    "plt.ylabel('mainroad')\n",
    "plt.show()"
   ]
  },
  {
   "cell_type": "code",
   "execution_count": 17,
   "id": "581fca03",
   "metadata": {},
   "outputs": [
    {
     "data": {
      "text/plain": [
       "0"
      ]
     },
     "execution_count": 17,
     "metadata": {},
     "output_type": "execute_result"
    }
   ],
   "source": [
    "#Filling missing values according to the observations made from scattered plot\n",
    "for i in df.index:\n",
    "    if(df.loc[i,'price']<4200000 and np.isnan(df.loc[i,'mainroad'])):\n",
    "        df.loc[i,'mainroad'] = 0\n",
    "    elif(np.isnan(df.loc[i,'mainroad'])):\n",
    "        df.loc[i,'mainroad'] = 1\n",
    "        \n",
    "df['mainroad'].isna().sum()"
   ]
  },
  {
   "cell_type": "code",
   "execution_count": 18,
   "id": "d283da66",
   "metadata": {},
   "outputs": [
    {
     "data": {
      "image/png": "[encoded data removed]",
      "text/plain": [
       "<Figure size 640x480 with 1 Axes>"
      ]
     },
     "metadata": {},
     "output_type": "display_data"
    }
   ],
   "source": [
    "#PRICE VS GUESTROOM\n",
    "plt.scatter(df['price'], df['guestroom'])\n",
    "plt.xlabel('price')\n",
    "plt.ylabel('guestroom')\n",
    "plt.show()"
   ]
  },
  {
   "cell_type": "code",
   "execution_count": 19,
   "id": "90ec70e5",
   "metadata": {},
   "outputs": [
    {
     "data": {
      "image/png": "[encoded data removed]",
      "text/plain": [
       "<Figure size 640x480 with 1 Axes>"
      ]
     },
     "metadata": {},
     "output_type": "display_data"
    }
   ],
   "source": [
    "plt.scatter(df['area'],df['guestroom'])\n",
    "plt.xlabel('Area')\n",
    "plt.ylabel('Guestroom')\n",
    "plt.show()"
   ]
  },
  {
   "cell_type": "code",
   "execution_count": 20,
   "id": "2faf2dca",
   "metadata": {},
   "outputs": [],
   "source": [
    "#Filling missing values according to the observations made from scattered plot\n",
    "df['guestroom'].fillna(0,inplace = True)"
   ]
  },
  {
   "cell_type": "code",
   "execution_count": 21,
   "id": "993e3d06",
   "metadata": {},
   "outputs": [
    {
     "data": {
      "image/png": "[encoded data removed]",
      "text/plain": [
       "<Figure size 640x480 with 1 Axes>"
      ]
     },
     "metadata": {},
     "output_type": "display_data"
    }
   ],
   "source": [
    "#PRICE VS BASEMENT\n",
    "plt.scatter(df['price'], df['basement'])\n",
    "plt.xlabel('price')\n",
    "plt.ylabel('basement')\n",
    "plt.show()"
   ]
  },
  {
   "cell_type": "code",
   "execution_count": 22,
   "id": "74e2d353",
   "metadata": {},
   "outputs": [
    {
     "name": "stdout",
     "output_type": "stream",
     "text": [
      "189\n",
      "101\n"
     ]
    },
    {
     "data": {
      "image/png": "[encoded data removed]",
      "text/plain": [
       "<Figure size 640x480 with 1 Axes>"
      ]
     },
     "metadata": {},
     "output_type": "display_data"
    }
   ],
   "source": [
    "#Checking how many fields have besement and how many does not have basement\n",
    "print(np.count_nonzero(df['basement'] == 0))\n",
    "print(np.count_nonzero(df['basement'] == 1))\n",
    "#PRICE VS BASEMENT\n",
    "plt.scatter(df['area'], df['basement'])\n",
    "plt.xlabel('area')\n",
    "plt.ylabel('basement')\n",
    "plt.show()"
   ]
  },
  {
   "cell_type": "code",
   "execution_count": 23,
   "id": "c30111aa",
   "metadata": {},
   "outputs": [
    {
     "data": {
      "text/plain": [
       "0"
      ]
     },
     "execution_count": 23,
     "metadata": {},
     "output_type": "execute_result"
    }
   ],
   "source": [
    "#Filing all missing basement values as 0 because in all price ranges it is mot occured\n",
    "for i in df.index:\n",
    "    if(df.loc[i,'price']<10000000 and np.isnan(df.loc[i,'basement'])):\n",
    "        df.loc[i,'basement'] = 0\n",
    "    elif(np.isnan(df.loc[i,'basement'])):\n",
    "        df.loc[i,'basement'] = 1\n",
    "df['basement'].isna().sum()"
   ]
  },
  {
   "cell_type": "code",
   "execution_count": 24,
   "id": "67d68cfb",
   "metadata": {},
   "outputs": [
    {
     "name": "stdout",
     "output_type": "stream",
     "text": [
      "281\n",
      "13\n"
     ]
    },
    {
     "data": {
      "image/png": "[encoded data removed]",
      "text/plain": [
       "<Figure size 640x480 with 1 Axes>"
      ]
     },
     "metadata": {},
     "output_type": "display_data"
    }
   ],
   "source": [
    "print(np.count_nonzero(df['hotwaterheating'] == 0))\n",
    "print(np.count_nonzero(df['hotwaterheating'] == 1))\n",
    "#PRICE VS HOT WATER HEATING\n",
    "plt.scatter(df['price'], df['hotwaterheating'])\n",
    "plt.xlabel('price')\n",
    "plt.ylabel('hot water heating')\n",
    "plt.show()"
   ]
  },
  {
   "cell_type": "code",
   "execution_count": 25,
   "id": "25c97daa",
   "metadata": {},
   "outputs": [],
   "source": [
    "#Filliing all missing values as 0 because it's overwhelmingly more occured\n",
    "df['hotwaterheating'].fillna(0,inplace = True)"
   ]
  },
  {
   "cell_type": "code",
   "execution_count": 26,
   "id": "fa88bf47",
   "metadata": {},
   "outputs": [
    {
     "name": "stdout",
     "output_type": "stream",
     "text": [
      "202\n",
      "101\n"
     ]
    },
    {
     "data": {
      "image/png": "[encoded data removed]",
      "text/plain": [
       "<Figure size 640x480 with 1 Axes>"
      ]
     },
     "metadata": {},
     "output_type": "display_data"
    }
   ],
   "source": [
    "print(np.count_nonzero(df['airconditioning'] == 0))\n",
    "print(np.count_nonzero(df['airconditioning'] == 1))\n",
    "#PRICE VS AIR CONDITIONING\n",
    "plt.scatter(df['price'], df['airconditioning'])\n",
    "plt.xlabel('price')\n",
    "plt.ylabel('airconditioning')\n",
    "plt.show()"
   ]
  },
  {
   "cell_type": "code",
   "execution_count": 27,
   "id": "020816cc",
   "metadata": {},
   "outputs": [
    {
     "data": {
      "text/plain": [
       "0"
      ]
     },
     "execution_count": 27,
     "metadata": {},
     "output_type": "execute_result"
    }
   ],
   "source": [
    "#Filling in missing values according to the observations made\n",
    "for i in df.index:\n",
    "    if(df.loc[i,'price']<6600000 and np.isnan(df.loc[i,'airconditioning'])):\n",
    "        df.loc[i,'airconditioning'] = 0\n",
    "    elif(np.isnan(df.loc[i,'airconditioning'])):\n",
    "        df.loc[i,'airconditioning'] = 1\n",
    "df['airconditioning'].isna().sum()"
   ]
  },
  {
   "cell_type": "code",
   "execution_count": 28,
   "id": "cb1c9b64",
   "metadata": {},
   "outputs": [
    {
     "data": {
      "image/png": "[encoded data removed]",
      "text/plain": [
       "<Figure size 640x480 with 1 Axes>"
      ]
     },
     "metadata": {},
     "output_type": "display_data"
    }
   ],
   "source": [
    "#PRICE VS PARKING\n",
    "plt.scatter(df['price'], df['parking'])\n",
    "plt.xlabel('price')\n",
    "plt.ylabel('parking')\n",
    "plt.show()"
   ]
  },
  {
   "cell_type": "code",
   "execution_count": 29,
   "id": "2ea0c9cf",
   "metadata": {},
   "outputs": [
    {
     "data": {
      "text/plain": [
       "<matplotlib.collections.PathCollection at 0x1421a5dcfd0>"
      ]
     },
     "execution_count": 29,
     "metadata": {},
     "output_type": "execute_result"
    },
    {
     "data": {
      "image/png": "[encoded data removed]",
      "text/plain": [
       "<Figure size 640x480 with 1 Axes>"
      ]
     },
     "metadata": {},
     "output_type": "display_data"
    }
   ],
   "source": [
    "plt.scatter(df['mainroad'],df['parking'])"
   ]
  },
  {
   "cell_type": "code",
   "execution_count": 30,
   "id": "54d98704",
   "metadata": {},
   "outputs": [
    {
     "data": {
      "text/plain": [
       "0"
      ]
     },
     "execution_count": 30,
     "metadata": {},
     "output_type": "execute_result"
    }
   ],
   "source": [
    "#Filling in missing values by obverving the scattered plot\n",
    "for i in df.index:\n",
    "    if(df.loc[i,'price']<6000000 and np.isnan(df.loc[i,'parking'])):\n",
    "        df.loc[i,'parking'] = 0\n",
    "    elif(df.loc[i,'price']<10000000 and np.isnan(df.loc[i,'parking'])):\n",
    "        df.loc[i,'parking'] = 1\n",
    "    elif(np.isnan(df.loc[i,'parking'])):\n",
    "        df.loc[i,'parking'] = 2\n",
    "        \n",
    "df['parking'].isna().sum()"
   ]
  },
  {
   "cell_type": "code",
   "execution_count": 31,
   "id": "c2b9a7d2",
   "metadata": {},
   "outputs": [
    {
     "data": {
      "image/png": "[encoded data removed]",
      "text/plain": [
       "<Figure size 640x480 with 1 Axes>"
      ]
     },
     "metadata": {},
     "output_type": "display_data"
    }
   ],
   "source": [
    "#PRICE VS PREFAREA\n",
    "#I don't know exactly what prefarea is but google says it's something related to house pricing prediction\n",
    "plt.scatter(df['price'], df['prefarea'])\n",
    "plt.xlabel('price')\n",
    "plt.ylabel('prefarea')\n",
    "plt.show()"
   ]
  },
  {
   "cell_type": "code",
   "execution_count": 32,
   "id": "e65754dc",
   "metadata": {},
   "outputs": [
    {
     "data": {
      "text/plain": [
       "<matplotlib.collections.PathCollection at 0x1421a2d9250>"
      ]
     },
     "execution_count": 32,
     "metadata": {},
     "output_type": "execute_result"
    },
    {
     "data": {
      "image/png": "[encoded data removed]",
      "text/plain": [
       "<Figure size 640x480 with 1 Axes>"
      ]
     },
     "metadata": {},
     "output_type": "display_data"
    }
   ],
   "source": [
    "plt.scatter(df['area'],df['prefarea'])"
   ]
  },
  {
   "cell_type": "code",
   "execution_count": 33,
   "id": "17efbc77",
   "metadata": {},
   "outputs": [
    {
     "data": {
      "text/plain": [
       "0"
      ]
     },
     "execution_count": 33,
     "metadata": {},
     "output_type": "execute_result"
    }
   ],
   "source": [
    "#Filling missing values by observing scatted plot\n",
    "for i in df.index:\n",
    "    if(df.loc[i,'price']<9000000 and np.isnan(df.loc[i,'prefarea'])):\n",
    "        df.loc[i,'prefarea'] = 0\n",
    "    elif(np.isnan(df.loc[i,'prefarea'])):\n",
    "        df.loc[i,'prefarea'] = 1\n",
    "        \n",
    "df['prefarea'].isna().sum()"
   ]
  },
  {
   "cell_type": "code",
   "execution_count": 34,
   "id": "4a5624d6",
   "metadata": {},
   "outputs": [
    {
     "data": {
      "image/png": "[encoded data removed]",
      "text/plain": [
       "<Figure size 640x480 with 1 Axes>"
      ]
     },
     "metadata": {},
     "output_type": "display_data"
    }
   ],
   "source": [
    "#PRICE VS FURNISHING STATUS\n",
    "plt.scatter(df['price'], df['furnishingstatus'])\n",
    "plt.xlabel('price')\n",
    "plt.ylabel('furnishing status')\n",
    "plt.show()"
   ]
  },
  {
   "cell_type": "code",
   "execution_count": 35,
   "id": "a17d5a29",
   "metadata": {},
   "outputs": [
    {
     "data": {
      "text/plain": [
       "0"
      ]
     },
     "execution_count": 35,
     "metadata": {},
     "output_type": "execute_result"
    }
   ],
   "source": [
    "#Filling missing values by observing scatted plot\n",
    "for i in df.index:\n",
    "    if(df.loc[i,'price']<5800000 and np.isnan(df.loc[i,'furnishingstatus'])):\n",
    "        df.loc[i,'furnishingstatus'] = 0\n",
    "    elif(np.isnan(df.loc[i,'furnishingstatus'])):\n",
    "        df.loc[i,'furnishingstatus'] = 2\n",
    "        \n",
    "df['furnishingstatus'].isna().sum()"
   ]
  },
  {
   "cell_type": "code",
   "execution_count": 36,
   "id": "ad448e07",
   "metadata": {},
   "outputs": [
    {
     "data": {
      "text/plain": [
       "0"
      ]
     },
     "execution_count": 36,
     "metadata": {},
     "output_type": "execute_result"
    }
   ],
   "source": [
    "#Checking if any nan value is remaining\n",
    "df.isna().sum().sum()"
   ]
  },
  {
   "cell_type": "code",
   "execution_count": 37,
   "id": "8acee4c9",
   "metadata": {},
   "outputs": [],
   "source": [
    "#Finally converting cleaned data into excel file\n",
    "df.to_csv(\"cleanedSheet.csv\")"
   ]
  },
  {
   "cell_type": "code",
   "execution_count": 38,
   "id": "7a5b2f35",
   "metadata": {},
   "outputs": [
    {
     "data": {
      "text/html": [
       "<div>\n",
       "<style scoped>\n",
       "    .dataframe tbody tr th:only-of-type {\n",
       "        vertical-align: middle;\n",
       "    }\n",
       "\n",
       "    .dataframe tbody tr th {\n",
       "        vertical-align: top;\n",
       "    }\n",
       "\n",
       "    .dataframe thead th {\n",
       "        text-align: right;\n",
       "    }\n",
       "</style>\n",
       "<table border=\"1\" class=\"dataframe\">\n",
       "  <thead>\n",
       "    <tr style=\"text-align: right;\">\n",
       "      <th></th>\n",
       "      <th>price</th>\n",
       "      <th>area</th>\n",
       "      <th>bedrooms</th>\n",
       "      <th>bathrooms</th>\n",
       "      <th>stories</th>\n",
       "      <th>mainroad</th>\n",
       "      <th>guestroom</th>\n",
       "      <th>basement</th>\n",
       "      <th>hotwaterheating</th>\n",
       "      <th>airconditioning</th>\n",
       "      <th>parking</th>\n",
       "      <th>prefarea</th>\n",
       "      <th>furnishingstatus</th>\n",
       "    </tr>\n",
       "  </thead>\n",
       "  <tbody>\n",
       "    <tr>\n",
       "      <th>0</th>\n",
       "      <td>1750000</td>\n",
       "      <td>3850.0</td>\n",
       "      <td>3.0</td>\n",
       "      <td>1.0</td>\n",
       "      <td>2.0</td>\n",
       "      <td>NO</td>\n",
       "      <td>NO</td>\n",
       "      <td>NO</td>\n",
       "      <td>NO</td>\n",
       "      <td>NO</td>\n",
       "      <td>0.0</td>\n",
       "      <td>NO</td>\n",
       "      <td>UNFURNISHED</td>\n",
       "    </tr>\n",
       "    <tr>\n",
       "      <th>1</th>\n",
       "      <td>1750000</td>\n",
       "      <td>4000.0</td>\n",
       "      <td>3.0</td>\n",
       "      <td>1.0</td>\n",
       "      <td>1.0</td>\n",
       "      <td>NO</td>\n",
       "      <td>NO</td>\n",
       "      <td>NO</td>\n",
       "      <td>NO</td>\n",
       "      <td>NO</td>\n",
       "      <td>0.0</td>\n",
       "      <td>NO</td>\n",
       "      <td>FURNISHED</td>\n",
       "    </tr>\n",
       "    <tr>\n",
       "      <th>2</th>\n",
       "      <td>1767150</td>\n",
       "      <td>4000.0</td>\n",
       "      <td>3.0</td>\n",
       "      <td>1.0</td>\n",
       "      <td>1.0</td>\n",
       "      <td>NO</td>\n",
       "      <td>NO</td>\n",
       "      <td>NO</td>\n",
       "      <td>NO</td>\n",
       "      <td>NO</td>\n",
       "      <td>0.0</td>\n",
       "      <td>NO</td>\n",
       "      <td>UNFURNISHED</td>\n",
       "    </tr>\n",
       "    <tr>\n",
       "      <th>3</th>\n",
       "      <td>1820000</td>\n",
       "      <td>4000.0</td>\n",
       "      <td>2.0</td>\n",
       "      <td>1.0</td>\n",
       "      <td>1.0</td>\n",
       "      <td>NO</td>\n",
       "      <td>NO</td>\n",
       "      <td>NO</td>\n",
       "      <td>NO</td>\n",
       "      <td>NO</td>\n",
       "      <td>0.0</td>\n",
       "      <td>NO</td>\n",
       "      <td>UNFURNISHED</td>\n",
       "    </tr>\n",
       "    <tr>\n",
       "      <th>4</th>\n",
       "      <td>1890000</td>\n",
       "      <td>3649.0</td>\n",
       "      <td>2.0</td>\n",
       "      <td>1.0</td>\n",
       "      <td>2.0</td>\n",
       "      <td>NO</td>\n",
       "      <td>NO</td>\n",
       "      <td>NO</td>\n",
       "      <td>NO</td>\n",
       "      <td>NO</td>\n",
       "      <td>0.0</td>\n",
       "      <td>NO</td>\n",
       "      <td>UNFURNISHED</td>\n",
       "    </tr>\n",
       "    <tr>\n",
       "      <th>...</th>\n",
       "      <td>...</td>\n",
       "      <td>...</td>\n",
       "      <td>...</td>\n",
       "      <td>...</td>\n",
       "      <td>...</td>\n",
       "      <td>...</td>\n",
       "      <td>...</td>\n",
       "      <td>...</td>\n",
       "      <td>...</td>\n",
       "      <td>...</td>\n",
       "      <td>...</td>\n",
       "      <td>...</td>\n",
       "      <td>...</td>\n",
       "    </tr>\n",
       "    <tr>\n",
       "      <th>422</th>\n",
       "      <td>11410000</td>\n",
       "      <td>7420.0</td>\n",
       "      <td>3.0</td>\n",
       "      <td>1.0</td>\n",
       "      <td>2.0</td>\n",
       "      <td>YES</td>\n",
       "      <td>YES</td>\n",
       "      <td>YES</td>\n",
       "      <td>NO</td>\n",
       "      <td>YES</td>\n",
       "      <td>2.0</td>\n",
       "      <td>NO</td>\n",
       "      <td>FURNISHED</td>\n",
       "    </tr>\n",
       "    <tr>\n",
       "      <th>423</th>\n",
       "      <td>12215000</td>\n",
       "      <td>7500.0</td>\n",
       "      <td>3.0</td>\n",
       "      <td>2.0</td>\n",
       "      <td>3.0</td>\n",
       "      <td>YES</td>\n",
       "      <td>NO</td>\n",
       "      <td>YES</td>\n",
       "      <td>NO</td>\n",
       "      <td>YES</td>\n",
       "      <td>3.0</td>\n",
       "      <td>YES</td>\n",
       "      <td>FURNISHED</td>\n",
       "    </tr>\n",
       "    <tr>\n",
       "      <th>424</th>\n",
       "      <td>12250000</td>\n",
       "      <td>9960.0</td>\n",
       "      <td>3.0</td>\n",
       "      <td>2.0</td>\n",
       "      <td>2.0</td>\n",
       "      <td>YES</td>\n",
       "      <td>NO</td>\n",
       "      <td>YES</td>\n",
       "      <td>NO</td>\n",
       "      <td>NO</td>\n",
       "      <td>2.0</td>\n",
       "      <td>YES</td>\n",
       "      <td>SEMI-FURNISHED</td>\n",
       "    </tr>\n",
       "    <tr>\n",
       "      <th>425</th>\n",
       "      <td>12250000</td>\n",
       "      <td>8960.0</td>\n",
       "      <td>5.0</td>\n",
       "      <td>4.0</td>\n",
       "      <td>4.0</td>\n",
       "      <td>YES</td>\n",
       "      <td>NO</td>\n",
       "      <td>NO</td>\n",
       "      <td>NO</td>\n",
       "      <td>YES</td>\n",
       "      <td>2.0</td>\n",
       "      <td>NO</td>\n",
       "      <td>FURNISHED</td>\n",
       "    </tr>\n",
       "    <tr>\n",
       "      <th>426</th>\n",
       "      <td>13300000</td>\n",
       "      <td>7420.0</td>\n",
       "      <td>4.0</td>\n",
       "      <td>2.0</td>\n",
       "      <td>3.0</td>\n",
       "      <td>YES</td>\n",
       "      <td>NO</td>\n",
       "      <td>YES</td>\n",
       "      <td>NO</td>\n",
       "      <td>YES</td>\n",
       "      <td>2.0</td>\n",
       "      <td>YES</td>\n",
       "      <td>FURNISHED</td>\n",
       "    </tr>\n",
       "  </tbody>\n",
       "</table>\n",
       "<p>427 rows × 13 columns</p>\n",
       "</div>"
      ],
      "text/plain": [
       "        price    area  bedrooms  bathrooms  stories mainroad guestroom  \\\n",
       "0     1750000  3850.0       3.0        1.0      2.0       NO        NO   \n",
       "1     1750000  4000.0       3.0        1.0      1.0       NO        NO   \n",
       "2     1767150  4000.0       3.0        1.0      1.0       NO        NO   \n",
       "3     1820000  4000.0       2.0        1.0      1.0       NO        NO   \n",
       "4     1890000  3649.0       2.0        1.0      2.0       NO        NO   \n",
       "..        ...     ...       ...        ...      ...      ...       ...   \n",
       "422  11410000  7420.0       3.0        1.0      2.0      YES       YES   \n",
       "423  12215000  7500.0       3.0        2.0      3.0      YES        NO   \n",
       "424  12250000  9960.0       3.0        2.0      2.0      YES        NO   \n",
       "425  12250000  8960.0       5.0        4.0      4.0      YES        NO   \n",
       "426  13300000  7420.0       4.0        2.0      3.0      YES        NO   \n",
       "\n",
       "    basement hotwaterheating airconditioning  parking prefarea  \\\n",
       "0         NO              NO              NO      0.0       NO   \n",
       "1         NO              NO              NO      0.0       NO   \n",
       "2         NO              NO              NO      0.0       NO   \n",
       "3         NO              NO              NO      0.0       NO   \n",
       "4         NO              NO              NO      0.0       NO   \n",
       "..       ...             ...             ...      ...      ...   \n",
       "422      YES              NO             YES      2.0       NO   \n",
       "423      YES              NO             YES      3.0      YES   \n",
       "424      YES              NO              NO      2.0      YES   \n",
       "425       NO              NO             YES      2.0       NO   \n",
       "426      YES              NO             YES      2.0      YES   \n",
       "\n",
       "    furnishingstatus  \n",
       "0        UNFURNISHED  \n",
       "1          FURNISHED  \n",
       "2        UNFURNISHED  \n",
       "3        UNFURNISHED  \n",
       "4        UNFURNISHED  \n",
       "..               ...  \n",
       "422        FURNISHED  \n",
       "423        FURNISHED  \n",
       "424   SEMI-FURNISHED  \n",
       "425        FURNISHED  \n",
       "426        FURNISHED  \n",
       "\n",
       "[427 rows x 13 columns]"
      ]
     },
     "execution_count": 38,
     "metadata": {},
     "output_type": "execute_result"
    }
   ],
   "source": [
    "#Convertig values back to string for understandibility of human and to avoid confusion because\n",
    "#there are some fields which actually have numerical value such as 'stories' and they have significance other than yes or no\n",
    "for j in range(5,10):\n",
    "    for i in df.index:\n",
    "        if(df.iloc[i,j] == 0):\n",
    "            df.iloc[i,j] = \"NO\"\n",
    "        elif(df.iloc[i,j] == 1):\n",
    "            df.iloc[i,j] = \"YES\"\n",
    "        if(df.loc[i,'prefarea'] == 0):\n",
    "            df.loc[i,'prefarea'] = \"NO\"\n",
    "        elif(df.loc[i,'prefarea'] == 1):\n",
    "            df.loc[i,'prefarea'] = \"YES\"\n",
    "            \n",
    "        if(df.loc[i,'furnishingstatus'] == 0):\n",
    "            df.loc[i,'furnishingstatus'] = \"UNFURNISHED\"\n",
    "        elif(df.loc[i,'furnishingstatus'] == 1):\n",
    "            df.loc[i,'furnishingstatus'] = \"SEMI-FURNISHED\"\n",
    "        elif(df.loc[i,'furnishingstatus'] == 2):\n",
    "            df.loc[i,'furnishingstatus'] = \"FURNISHED\"\n",
    "            \n",
    "df"
   ]
  },
  {
   "cell_type": "code",
   "execution_count": 39,
   "id": "ab8fe584",
   "metadata": {},
   "outputs": [],
   "source": [
    "#Converting this file to excel separately\n",
    "df.to_csv(\"cleanedSheet_1.csv\")"
   ]
  },
  {
   "cell_type": "code",
   "execution_count": null,
   "id": "4324bfc8",
   "metadata": {},
   "outputs": [],
   "source": []
  }
 ],
 "metadata": {
  "kernelspec": {
   "display_name": "Python 3 (ipykernel)",
   "language": "python",
   "name": "python3"
  },
  "language_info": {
   "codemirror_mode": {
    "name": "ipython",
    "version": 3
   },
   "file_extension": ".py",
   "mimetype": "text/x-python",
   "name": "python",
   "nbconvert_exporter": "python",
   "pygments_lexer": "ipython3",
   "version": "3.11.5"
  }
 },
 "nbformat": 4,
 "nbformat_minor": 5
}
